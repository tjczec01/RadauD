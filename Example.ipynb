{
 "cells": [
  {
   "cell_type": "markdown",
   "metadata": {},
   "source": [
    "```python\n",
    "from __future__ import division, print_function, absolute_import\n",
    "import os\n",
    "dir_path = os.path.dirname(os.path.realpath(__file__))\n",
    "exec(open(r'{}\\__init__.py'.format(dir_path)).read())\n",
    "from scipy.integrate import solve_ivp\n",
    "from ivpd import solve_ivpd\n",
    "from ivpm import solve_ivpm\n",
    "from common import dm, mv \n",
    "import mpmath as mp\n",
    "\n",
    "def flatten(lm):\n",
    "              flatten = lambda l: [item for sublist in l for item in sublist] \n",
    "              return flatten(lm)\n",
    "\n",
    "def RHS(t, y, args):\n",
    "    pre = args\n",
    "    \n",
    "    try:\n",
    "        yn = [i**3.0 - 2.0*i**2.0 - 8.0*i + 1.0 for i in y]\n",
    "        return yn\n",
    "    except:\n",
    "        yn = y**3.0 - 2.0*y**2.0 - 8.0*y + 1.0\n",
    "        return [yn]\n",
    "\n",
    "\n",
    "def jacob(t, y, args):\n",
    "    pre = args\n",
    "    return [3.0*(y**2.0) - 4.0*y - 8.0]\n",
    "\n",
    "        \n",
    "def RHSd(t, y, args):\n",
    "    pre = args\n",
    "    \n",
    "    try:\n",
    "        yn = [dm(i, pre)**dm(3.0, pre) - dm(2.0, pre)*dm(i, pre)**dm(2.0, pre) - dm(8.0, pre)*dm(i, pre) + dm(1.0, pre) for i in y]\n",
    "        return yn\n",
    "    except:\n",
    "        yn = dm(y, pre)**dm(3.0, pre) - dm(2.0, pre)*dm(y, pre)**dm(2.0, pre) - dm(8.0, pre)*dm(y, pre) + dm(1.0, pre)\n",
    "        return [yn]\n",
    "\n",
    "\n",
    "def jacobd(t, y, args):\n",
    "    pre = args\n",
    "    return [[dm(3.0, pre)*(dm(y, pre)**dm(2.0, pre)) - dm(4.0, pre)*dm(y, pre) - dm(8.0, pre)]]\n",
    "\n",
    "\n",
    "def RHSm(t, y, args):\n",
    "    pre = args\n",
    "    \n",
    "    try:\n",
    "        yn = [mv(i, pre)**mv(3.0, pre) - mv(2.0, pre)*mv(i, pre)**mv(2.0, pre) - mv(8.0, pre)*mv(i, pre) + mv(1.0, pre) for i in y]\n",
    "        return yn\n",
    "    except:\n",
    "        yn = mv(y, pre)**mv(3.0, pre) - mv(2.0, pre)*mv(y, pre)**mv(2.0, pre) - mv(8.0, pre)*mv(y, pre) + mv(1.0, pre)\n",
    "        return [yn]\n",
    "\n",
    "\n",
    "def jacobm(t, y, args):\n",
    "    pre = args\n",
    "    return [[mv(3.0, pre)*(mv(y, pre)**mv(2.0, pre)) - mv(4.0, pre)*mv(y, pre) - mv(8.0, pre)]]\n",
    "```"
   ]
  },
  {
   "cell_type": "markdown",
   "metadata": {},
   "source": [
    "```python\n",
    "pi = [25]\n",
    "tevs = [i/10 for i in range(0, 6, 1)]\n",
    "sol1 = solve_ivp(RHS, [0.0, 0.5], [1.0], t_eval=tevs, method=\"Radau\", args=(pi), jac=jacob)\n",
    "sol2 = solve_ivpd(RHSd, [0.0, 0.5], [dm(1.0, pi)], t_eval=tevs, method=\"RadauD\", prec=pi[0], args=(pi), jac=jacobd)\n",
    "sol3 = solve_ivpm(RHSm, [0.0, 0.5], [mv(1.0, pi)], t_eval=tevs, method=\"RadauM\", prec=pi[0], args=(pi), jac=jacobm)\n",
    "print(sol1.t.tolist())\n",
    "print(sol1.y[0])\n",
    "print(sol2.t)\n",
    "print(flatten(sol2.y))\n",
    "print(sol3.t)\n",
    "print(flatten(sol3.y))\n",
    "```"
   ]
  },
  {
   "cell_type": "markdown",
   "metadata": {},
   "source": [
    "###### Time Values: \n",
    "```[0.0, 0.1, 0.2, 0.3, 0.4, 0.5]```\n",
    "###### Solution 1 Values:\n",
    "```[1.0, 0.4776154842273007, 0.26967857384898136, 0.18426535822960102, 0.1483106774848949, 0.13301519264377326] ```\n",
    "###### Solution 2 Values:\n",
    "```[Decimal('1.0000000000000000000000000'), Decimal('0.4776099653406185030490861'), Decimal('0.2696773963927673685350012'), Decimal('0.1842578536094844378345759'), Decimal('0.1483177946553717162919695'), Decimal('0.1330137535667451466683819')]```\n",
    "###### Solution 3 Values: \n",
    "```[mpf('1.0'), mpf('0.4776099653406185879215552883'), mpf('0.2696773963927675839042759191'), mpf('0.1842578536094844086287368356'), mpf('0.1483177946553717064067361544'), mpf('0.1330137535667451230862608068')]```"
   ]
  },
  {
   "cell_type": "code",
   "execution_count": null,
   "metadata": {},
   "outputs": [],
   "source": []
  },
  {
   "cell_type": "code",
   "execution_count": null,
   "metadata": {},
   "outputs": [],
   "source": []
  }
 ],
 "metadata": {
  "kernelspec": {
   "display_name": "Python 3",
   "language": "python",
   "name": "python3"
  },
  "language_info": {
   "codemirror_mode": {
    "name": "ipython",
    "version": 3
   },
   "file_extension": ".py",
   "mimetype": "text/x-python",
   "name": "python",
   "nbconvert_exporter": "python",
   "pygments_lexer": "ipython3",
   "version": "3.6.10"
  }
 },
 "nbformat": 4,
 "nbformat_minor": 4
}
